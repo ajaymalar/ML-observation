{
 "cells": [
  {
   "cell_type": "code",
   "execution_count": 13,
   "id": "345d9017",
   "metadata": {},
   "outputs": [
    {
     "name": "stdout",
     "output_type": "stream",
     "text": [
      "     Name  Roll no\n",
      "0    Ajay     3056\n",
      "1  Sanjay     5057\n"
     ]
    }
   ],
   "source": [
    "import pandas as pd\n",
    "d=pd.read_excel(r'C:\\Users\\2022503056\\Documents\\ds.xlsx')\n",
    "print(d)"
   ]
  },
  {
   "cell_type": "code",
   "execution_count": 15,
   "id": "f3a29a45",
   "metadata": {},
   "outputs": [
    {
     "name": "stdout",
     "output_type": "stream",
     "text": [
      "   Duration  Pulse  Maxpulse  Calories\n",
      "0        60    110       130     409.1\n",
      "1        60    117       145     479.0\n",
      "2        60    103       135     340.0\n",
      "3        45    109       175     282.4\n",
      "4        45    117       148     406.0\n",
      "5        60    102       127     300.5\n"
     ]
    }
   ],
   "source": [
    "import pandas as pd\n",
    "d=pd.read_csv(r'C:\\Users\\2022503056\\Documents\\pandaa.csv')\n",
    "print(d)"
   ]
  },
  {
   "cell_type": "code",
   "execution_count": 19,
   "id": "b8071123",
   "metadata": {},
   "outputs": [
    {
     "name": "stdout",
     "output_type": "stream",
     "text": [
      "     name  age\n",
      "0    ajay   20\n",
      "1  sanjay   17\n",
      "2   rahul   14\n",
      "3   jeeva   10\n",
      "4  sakthi   15\n"
     ]
    }
   ],
   "source": [
    "import pandas as pd\n",
    "d={\n",
    "    'name':['ajay','sanjay','rahul','jeeva','sakthi','keerthana'],\n",
    "    'age':[20,17,14,10,15,12]\n",
    "}\n",
    "m=pd.DataFrame(d)\n",
    "print(m.head())"
   ]
  },
  {
   "cell_type": "code",
   "execution_count": 20,
   "id": "1b0b896c",
   "metadata": {},
   "outputs": [
    {
     "name": "stdout",
     "output_type": "stream",
     "text": [
      "        name  age\n",
      "1     sanjay   17\n",
      "2      rahul   14\n",
      "3      jeeva   10\n",
      "4     sakthi   15\n",
      "5  keerthana   12\n"
     ]
    }
   ],
   "source": [
    "import pandas as pd\n",
    "d={\n",
    "    'name':['ajay','sanjay','rahul','jeeva','sakthi','keerthana'],\n",
    "    'age':[20,17,14,10,15,12]\n",
    "}\n",
    "m=pd.DataFrame(d)\n",
    "print(m.tail())"
   ]
  },
  {
   "cell_type": "code",
   "execution_count": 21,
   "id": "33ecdd6d",
   "metadata": {},
   "outputs": [
    {
     "name": "stdout",
     "output_type": "stream",
     "text": [
      "     name  age\n",
      "0    ajay   20\n",
      "1  sanjay   17\n",
      "2   rahul   14\n"
     ]
    }
   ],
   "source": [
    "import pandas as pd\n",
    "d={\n",
    "    'name':['ajay','sanjay','rahul','jeeva','sakthi','keerthana'],\n",
    "    'age':[20,17,14,10,15,12]\n",
    "}\n",
    "m=pd.DataFrame(d)\n",
    "print(m.head(3))"
   ]
  },
  {
   "cell_type": "code",
   "execution_count": 22,
   "id": "61c76f81",
   "metadata": {},
   "outputs": [
    {
     "name": "stdout",
     "output_type": "stream",
     "text": [
      "        name  age\n",
      "3      jeeva   10\n",
      "4     sakthi   15\n",
      "5  keerthana   12\n"
     ]
    }
   ],
   "source": [
    "import pandas as pd\n",
    "d={\n",
    "    'name':['ajay','sanjay','rahul','jeeva','sakthi','keerthana'],\n",
    "    'age':[20,17,14,10,15,12]\n",
    "}\n",
    "m=pd.DataFrame(d)\n",
    "print(m.tail(3))"
   ]
  },
  {
   "cell_type": "code",
   "execution_count": 28,
   "id": "7d1d5118",
   "metadata": {},
   "outputs": [
    {
     "name": "stdout",
     "output_type": "stream",
     "text": [
      "<class 'pandas.core.frame.DataFrame'>\n",
      "RangeIndex: 4 entries, 0 to 3\n",
      "Data columns (total 2 columns):\n",
      " #   Column  Non-Null Count  Dtype \n",
      "---  ------  --------------  ----- \n",
      " 0   name    4 non-null      object\n",
      " 1   marks   4 non-null      int64 \n",
      "dtypes: int64(1), object(1)\n",
      "memory usage: 196.0+ bytes\n",
      "None\n"
     ]
    }
   ],
   "source": [
    "import pandas as pd\n",
    "d={\n",
    "    'name':['ajay','sanjay','keerthana','rahul'],\n",
    "    'marks':[100,90,80,90]\n",
    "}\n",
    "m=pd.DataFrame(d)\n",
    "print(m.info())"
   ]
  },
  {
   "cell_type": "code",
   "execution_count": 27,
   "id": "f79f8b4f",
   "metadata": {},
   "outputs": [
    {
     "name": "stdout",
     "output_type": "stream",
     "text": [
      "            marks\n",
      "count    3.000000\n",
      "mean    80.000000\n",
      "std     26.457513\n",
      "min     50.000000\n",
      "25%     70.000000\n",
      "50%     90.000000\n",
      "75%     95.000000\n",
      "max    100.000000\n"
     ]
    }
   ],
   "source": [
    "import pandas as pd\n",
    "d={\n",
    "    'name':['ajay','rahul','sanjay'],\n",
    "    'marks':[100,50,90]\n",
    "}\n",
    "m=pd.DataFrame(d)\n",
    "print(m.describe())"
   ]
  },
  {
   "cell_type": "code",
   "execution_count": 33,
   "id": "ebe4d26f",
   "metadata": {},
   "outputs": [
    {
     "name": "stdout",
     "output_type": "stream",
     "text": [
      "       name\n",
      "count     7\n",
      "unique    3\n",
      "top       a\n",
      "freq      3\n"
     ]
    }
   ],
   "source": [
    "import pandas as pd\n",
    "d={\n",
    "    'name':['ajay','sanjay','sanjay','ajay','a','a','a'],\n",
    "    'marks':[100,50,90,95,100,90,80]\n",
    "}\n",
    "m=pd.DataFrame(d)\n",
    "print(m.describe(include='object'))"
   ]
  },
  {
   "cell_type": "code",
   "execution_count": 34,
   "id": "304f606d",
   "metadata": {},
   "outputs": [
    {
     "name": "stdout",
     "output_type": "stream",
     "text": [
      "       name\n",
      "count     7\n",
      "unique    3\n",
      "top       a\n",
      "freq      3\n"
     ]
    }
   ],
   "source": [
    "import pandas as pd\n",
    "d={\n",
    "    'name':['ajay','sanjay','sanjay','ajay','a','a','a'],\n",
    "    'marks':[100,50,90,95,100,90,80]\n",
    "}\n",
    "m=pd.DataFrame(d)\n",
    "print(m.describe(include='object'))"
   ]
  },
  {
   "cell_type": "code",
   "execution_count": 36,
   "id": "85492d81",
   "metadata": {},
   "outputs": [
    {
     "name": "stdout",
     "output_type": "stream",
     "text": [
      "count     7\n",
      "unique    7\n",
      "top       a\n",
      "freq      1\n",
      "Name: name, dtype: object count      7.000000\n",
      "mean      78.571429\n",
      "std       13.451854\n",
      "min       60.000000\n",
      "25%       70.000000\n",
      "50%       80.000000\n",
      "75%       85.000000\n",
      "max      100.000000\n",
      "Name: marks, dtype: float64\n"
     ]
    }
   ],
   "source": [
    "import pandas as pd\n",
    "d={\n",
    "    'name':['a','b','c','d','e','f','g'],\n",
    "    'marks':[100,90,80,70,60,70,80]\n",
    "}\n",
    "m=pd.DataFrame(d)\n",
    "print(m['name'].describe(),m['marks'].describe())"
   ]
  },
  {
   "cell_type": "code",
   "execution_count": 37,
   "id": "781ea33f",
   "metadata": {},
   "outputs": [
    {
     "name": "stdout",
     "output_type": "stream",
     "text": [
      "name     3\n",
      "marks    4\n",
      "dtype: int64\n"
     ]
    }
   ],
   "source": [
    "import pandas as pd\n",
    "d={\n",
    "    'name':['a','b','c','a'],\n",
    "    'marks':[10,9,8,12]\n",
    "}\n",
    "m=pd.DataFrame(d)\n",
    "print(m.nunique())"
   ]
  },
  {
   "cell_type": "code",
   "execution_count": 38,
   "id": "4676cc2f",
   "metadata": {},
   "outputs": [
    {
     "name": "stdout",
     "output_type": "stream",
     "text": [
      "['a', 'b', 'c']\n"
     ]
    }
   ],
   "source": [
    "print(sorted(m['name'].unique()))"
   ]
  },
  {
   "cell_type": "code",
   "execution_count": 39,
   "id": "5fcf57d8",
   "metadata": {},
   "outputs": [
    {
     "name": "stdout",
     "output_type": "stream",
     "text": [
      "      count  mean       std   min   25%   50%   75%   max\n",
      "name                                                     \n",
      "a       2.0  11.0  1.414214  10.0  10.5  11.0  11.5  12.0\n",
      "b       1.0   9.0       NaN   9.0   9.0   9.0   9.0   9.0\n",
      "c       1.0   8.0       NaN   8.0   8.0   8.0   8.0   8.0\n"
     ]
    }
   ],
   "source": [
    "print(m.groupby('name')['marks'].describe())"
   ]
  },
  {
   "cell_type": "code",
   "execution_count": 42,
   "id": "824f5d1b",
   "metadata": {},
   "outputs": [
    {
     "name": "stdout",
     "output_type": "stream",
     "text": [
      "Number of groups: {len(group)}\n",
      "name\n",
      "a    2\n",
      "b    1\n",
      "c    1\n",
      "dtype: int64\n"
     ]
    }
   ],
   "source": [
    "group=m.groupby('name')\n",
    "print(\"Number of groups: {len(group)}\")\n",
    "print(group.size())"
   ]
  },
  {
   "cell_type": "code",
   "execution_count": 43,
   "id": "c7ce3e3f",
   "metadata": {},
   "outputs": [
    {
     "name": "stdout",
     "output_type": "stream",
     "text": [
      "name\n",
      "a    2\n",
      "b    1\n",
      "c    1\n",
      "dtype: int64\n"
     ]
    }
   ],
   "source": [
    "print(group.size())"
   ]
  },
  {
   "cell_type": "code",
   "execution_count": 46,
   "id": "88c51e52",
   "metadata": {},
   "outputs": [
    {
     "name": "stdout",
     "output_type": "stream",
     "text": [
      "  name  marks\n",
      "0    a     10\n",
      "3    a     12\n"
     ]
    }
   ],
   "source": [
    "print(group.get_group('a'))"
   ]
  },
  {
   "cell_type": "code",
   "execution_count": 47,
   "id": "ee255f26",
   "metadata": {},
   "outputs": [
    {
     "name": "stdout",
     "output_type": "stream",
     "text": [
      "     marks        \n",
      "     count max min\n",
      "name              \n",
      "a        2  12  10\n",
      "b        1   9   9\n",
      "c        1   8   8\n"
     ]
    }
   ],
   "source": [
    "print(group.agg(['count','max','min']))"
   ]
  },
  {
   "cell_type": "code",
   "execution_count": null,
   "id": "976ad866",
   "metadata": {},
   "outputs": [],
   "source": []
  }
 ],
 "metadata": {
  "kernelspec": {
   "display_name": "Python 3 (ipykernel)",
   "language": "python",
   "name": "python3"
  },
  "language_info": {
   "codemirror_mode": {
    "name": "ipython",
    "version": 3
   },
   "file_extension": ".py",
   "mimetype": "text/x-python",
   "name": "python",
   "nbconvert_exporter": "python",
   "pygments_lexer": "ipython3",
   "version": "3.11.5"
  }
 },
 "nbformat": 4,
 "nbformat_minor": 5
}
