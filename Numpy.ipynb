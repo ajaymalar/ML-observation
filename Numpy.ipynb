{
 "cells": [
  {
   "cell_type": "code",
   "execution_count": 1,
   "id": "d951d70c",
   "metadata": {},
   "outputs": [
    {
     "name": "stdout",
     "output_type": "stream",
     "text": [
      "[[1 2 3]\n",
      " [4 5 6]\n",
      " [7 8 9]]\n"
     ]
    }
   ],
   "source": [
    "import numpy as np\n",
    "arr=np.array([[1,2,3],[4,5,6],[7,8,9]])\n",
    "print(arr)"
   ]
  },
  {
   "cell_type": "code",
   "execution_count": 3,
   "id": "7613af22",
   "metadata": {},
   "outputs": [
    {
     "name": "stdout",
     "output_type": "stream",
     "text": [
      "(3, 3)\n"
     ]
    }
   ],
   "source": [
    "print(arr.shape)"
   ]
  },
  {
   "cell_type": "code",
   "execution_count": 5,
   "id": "830f748f",
   "metadata": {},
   "outputs": [
    {
     "name": "stdout",
     "output_type": "stream",
     "text": [
      "[0. 0. 0. 0. 0.]\n",
      "[[0. 0. 0.]\n",
      " [0. 0. 0.]\n",
      " [0. 0. 0.]]\n"
     ]
    }
   ],
   "source": [
    "arr1=np.zeros(5)\n",
    "arr2=np.zeros((3,3))\n",
    "print(arr1)\n",
    "print(arr2)"
   ]
  },
  {
   "cell_type": "code",
   "execution_count": 6,
   "id": "e7a247a6",
   "metadata": {},
   "outputs": [
    {
     "name": "stdout",
     "output_type": "stream",
     "text": [
      "[[1. 0. 0. 0. 0.]\n",
      " [0. 1. 0. 0. 0.]\n",
      " [0. 0. 1. 0. 0.]\n",
      " [0. 0. 0. 1. 0.]\n",
      " [0. 0. 0. 0. 1.]]\n"
     ]
    }
   ],
   "source": [
    "identitymatrix=np.eye(5)\n",
    "print(identitymatrix)"
   ]
  },
  {
   "cell_type": "code",
   "execution_count": 7,
   "id": "c616e79d",
   "metadata": {},
   "outputs": [
    {
     "name": "stdout",
     "output_type": "stream",
     "text": [
      "4\n"
     ]
    }
   ],
   "source": [
    "ans=arr[1,0]\n",
    "print(ans)"
   ]
  },
  {
   "cell_type": "code",
   "execution_count": 8,
   "id": "fca156a2",
   "metadata": {},
   "outputs": [
    {
     "name": "stdout",
     "output_type": "stream",
     "text": [
      "[4 5 6]\n"
     ]
    }
   ],
   "source": [
    "print(arr[1,:])"
   ]
  },
  {
   "cell_type": "code",
   "execution_count": 9,
   "id": "27027dd9",
   "metadata": {},
   "outputs": [
    {
     "name": "stdout",
     "output_type": "stream",
     "text": [
      "[2 5 8]\n"
     ]
    }
   ],
   "source": [
    "print(arr[:,1])"
   ]
  },
  {
   "cell_type": "code",
   "execution_count": 10,
   "id": "dff754c5",
   "metadata": {},
   "outputs": [
    {
     "name": "stdout",
     "output_type": "stream",
     "text": [
      "[3 6 9]\n"
     ]
    }
   ],
   "source": [
    "print(arr[:,-1])"
   ]
  },
  {
   "cell_type": "code",
   "execution_count": 11,
   "id": "86de4fbe",
   "metadata": {},
   "outputs": [
    {
     "name": "stdout",
     "output_type": "stream",
     "text": [
      "[[4 5 6]\n",
      " [7 8 9]]\n"
     ]
    }
   ],
   "source": [
    "print(arr[1:3,:])"
   ]
  },
  {
   "cell_type": "code",
   "execution_count": 13,
   "id": "45c7a645",
   "metadata": {},
   "outputs": [
    {
     "name": "stdout",
     "output_type": "stream",
     "text": [
      "[10 11 12 13 14 15 16 17 18 19 20]\n"
     ]
    }
   ],
   "source": [
    "ranges=np.arange(10,21)\n",
    "print(ranges)"
   ]
  },
  {
   "cell_type": "code",
   "execution_count": 15,
   "id": "d774fb6f",
   "metadata": {},
   "outputs": [
    {
     "name": "stdout",
     "output_type": "stream",
     "text": [
      "[[1 4 7]\n",
      " [2 5 8]\n",
      " [3 6 9]]\n"
     ]
    }
   ],
   "source": [
    "transpose=arr.T\n",
    "print(transpose)"
   ]
  },
  {
   "cell_type": "code",
   "execution_count": 17,
   "id": "a06d8f97",
   "metadata": {},
   "outputs": [
    {
     "name": "stdout",
     "output_type": "stream",
     "text": [
      "0.9999999999999987\n"
     ]
    }
   ],
   "source": [
    "from numpy.linalg import det\n",
    "matrix=np.array([[1,2,3],[0,1,4],[5,6,0]])\n",
    "deter=det(matrix)\n",
    "print(deter)"
   ]
  },
  {
   "cell_type": "code",
   "execution_count": 18,
   "id": "205b5829",
   "metadata": {},
   "outputs": [
    {
     "name": "stdout",
     "output_type": "stream",
     "text": [
      "[1 5 9]\n"
     ]
    }
   ],
   "source": [
    "diagonal=np.diagonal(arr)\n",
    "print(diagonal)"
   ]
  },
  {
   "cell_type": "code",
   "execution_count": 19,
   "id": "126d1063",
   "metadata": {},
   "outputs": [
    {
     "name": "stdout",
     "output_type": "stream",
     "text": [
      "Add [[ 9  9]\n",
      " [ 9 13]]\n",
      "Sub [[-7 -5]\n",
      " [-3 -5]]\n",
      "element_wise multiplication [[ 8 14]\n",
      " [18 36]]\n",
      "matrix multiplication [[20 25]\n",
      " [48 57]]\n"
     ]
    }
   ],
   "source": [
    "m1=np.array([[1,2],[3,4]])\n",
    "m2=np.array([[8,7],[6,9]])\n",
    "add=m1+m2\n",
    "sub=m1-m2\n",
    "mul=m1*m2\n",
    "matrix_mul=np.dot(m1,m2)\n",
    "print(\"Add\",add)\n",
    "print(\"Sub\",sub)\n",
    "print(\"element_wise multiplication\",mul)\n",
    "print(\"matrix multiplication\",matrix_mul)\n"
   ]
  },
  {
   "cell_type": "code",
   "execution_count": 20,
   "id": "f80dfda1",
   "metadata": {},
   "outputs": [
    {
     "name": "stdout",
     "output_type": "stream",
     "text": [
      "[[20 63 36  3 40]\n",
      " [95 17 11 68 38]\n",
      " [81 93 28 70 80]]\n"
     ]
    }
   ],
   "source": [
    "random=np.random.randint(1,100,(3,5))\n",
    "print(random)"
   ]
  },
  {
   "cell_type": "code",
   "execution_count": 22,
   "id": "656b2289",
   "metadata": {},
   "outputs": [
    {
     "name": "stdout",
     "output_type": "stream",
     "text": [
      "[0.   0.25 0.5  0.75 1.  ]\n"
     ]
    }
   ],
   "source": [
    "lineararray=np.linspace(0,1,5)\n",
    "print(lineararray)"
   ]
  },
  {
   "cell_type": "code",
   "execution_count": null,
   "id": "d325b5c5",
   "metadata": {},
   "outputs": [],
   "source": []
  }
 ],
 "metadata": {
  "kernelspec": {
   "display_name": "Python 3 (ipykernel)",
   "language": "python",
   "name": "python3"
  },
  "language_info": {
   "codemirror_mode": {
    "name": "ipython",
    "version": 3
   },
   "file_extension": ".py",
   "mimetype": "text/x-python",
   "name": "python",
   "nbconvert_exporter": "python",
   "pygments_lexer": "ipython3",
   "version": "3.11.5"
  }
 },
 "nbformat": 4,
 "nbformat_minor": 5
}
